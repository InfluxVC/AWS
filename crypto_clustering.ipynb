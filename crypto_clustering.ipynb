{
 "cells": [
  {
   "cell_type": "markdown",
   "metadata": {},
   "source": [
    "# Clustering Crypto"
   ]
  },
  {
   "cell_type": "code",
   "execution_count": 551,
   "metadata": {},
   "outputs": [],
   "source": [
    "# Initial imports\n",
    "import requests\n",
    "import pandas as pd\n",
    "import matplotlib.pyplot as plt\n",
    "import hvplot.pandas\n",
    "import plotly.express as px\n",
    "from sklearn.preprocessing import StandardScaler, MinMaxScaler\n",
    "from sklearn.decomposition import PCA\n",
    "from sklearn.cluster import KMeans"
   ]
  },
  {
   "cell_type": "markdown",
   "metadata": {},
   "source": [
    "### Fetching Cryptocurrency Data"
   ]
  },
  {
   "cell_type": "code",
   "execution_count": 525,
   "metadata": {},
   "outputs": [],
   "source": [
    "# Use the following endpoint to fetch json data\n",
    "url = 'https://min-api.cryptocompare.com/data/all/coinlist'"
   ]
  },
  {
   "cell_type": "code",
   "execution_count": null,
   "metadata": {},
   "outputs": [],
   "source": []
  },
  {
   "cell_type": "code",
   "execution_count": 526,
   "metadata": {},
   "outputs": [
    {
     "data": {
      "text/plain": [
       "<function dict.values>"
      ]
     },
     "execution_count": 526,
     "metadata": {},
     "output_type": "execute_result"
    }
   ],
   "source": [
    "first_response = requests.get(url)\n",
    "response_list = first_response.json()\n",
    "response_list.values"
   ]
  },
  {
   "cell_type": "code",
   "execution_count": 527,
   "metadata": {},
   "outputs": [
    {
     "name": "stdout",
     "output_type": "stream",
     "text": [
      "<Response [200]>\n"
     ]
    }
   ],
   "source": [
    "import json\n",
    "r = requests.get(url, data={'key':'value'})\n",
    "print(r)\n"
   ]
  },
  {
   "cell_type": "code",
   "execution_count": 528,
   "metadata": {},
   "outputs": [
    {
     "data": {
      "text/plain": [
       "'\"https://min-api.cryptocompare.com/data/all/coinlist\"'"
      ]
     },
     "execution_count": 528,
     "metadata": {},
     "output_type": "execute_result"
    }
   ],
   "source": [
    "# Create a DataFrame \n",
    "# HINT: You will need to use the 'Data' key from the json response, then transpose the DataFrame.\n",
    "\n",
    "crypto_df = json.dumps(url)\n",
    "crypto_df\n"
   ]
  },
  {
   "cell_type": "code",
   "execution_count": 529,
   "metadata": {},
   "outputs": [],
   "source": [
    "# Alternatively, use the provided csv file:\n",
    "# file_path = Path(\"Resources/crypto_data.csv\")\n",
    "\n",
    "# Create a DataFrame\n",
    "crypto_df=pd.read_csv('crypto_data.csv')"
   ]
  },
  {
   "cell_type": "markdown",
   "metadata": {},
   "source": [
    "### Data Preprocessing"
   ]
  },
  {
   "cell_type": "code",
   "execution_count": 530,
   "metadata": {},
   "outputs": [],
   "source": [
    "# Keep only necessary columns:\n",
    "# 'CoinName','Algorithm','IsTrading','ProofType','TotalCoinsMined','TotalCoinSupply'\n"
   ]
  },
  {
   "cell_type": "code",
   "execution_count": 531,
   "metadata": {},
   "outputs": [
    {
     "data": {
      "text/html": [
       "<div>\n",
       "<style scoped>\n",
       "    .dataframe tbody tr th:only-of-type {\n",
       "        vertical-align: middle;\n",
       "    }\n",
       "\n",
       "    .dataframe tbody tr th {\n",
       "        vertical-align: top;\n",
       "    }\n",
       "\n",
       "    .dataframe thead th {\n",
       "        text-align: right;\n",
       "    }\n",
       "</style>\n",
       "<table border=\"1\" class=\"dataframe\">\n",
       "  <thead>\n",
       "    <tr style=\"text-align: right;\">\n",
       "      <th></th>\n",
       "      <th>Unnamed: 0</th>\n",
       "      <th>CoinName</th>\n",
       "      <th>Algorithm</th>\n",
       "      <th>IsTrading</th>\n",
       "      <th>ProofType</th>\n",
       "      <th>TotalCoinsMined</th>\n",
       "      <th>TotalCoinSupply</th>\n",
       "    </tr>\n",
       "  </thead>\n",
       "  <tbody>\n",
       "    <tr>\n",
       "      <th>0</th>\n",
       "      <td>42</td>\n",
       "      <td>42 Coin</td>\n",
       "      <td>Scrypt</td>\n",
       "      <td>True</td>\n",
       "      <td>PoW/PoS</td>\n",
       "      <td>4.199995e+01</td>\n",
       "      <td>42</td>\n",
       "    </tr>\n",
       "    <tr>\n",
       "      <th>1</th>\n",
       "      <td>365</td>\n",
       "      <td>365Coin</td>\n",
       "      <td>X11</td>\n",
       "      <td>True</td>\n",
       "      <td>PoW/PoS</td>\n",
       "      <td>NaN</td>\n",
       "      <td>2300000000</td>\n",
       "    </tr>\n",
       "    <tr>\n",
       "      <th>2</th>\n",
       "      <td>404</td>\n",
       "      <td>404Coin</td>\n",
       "      <td>Scrypt</td>\n",
       "      <td>True</td>\n",
       "      <td>PoW/PoS</td>\n",
       "      <td>1.055185e+09</td>\n",
       "      <td>532000000</td>\n",
       "    </tr>\n",
       "    <tr>\n",
       "      <th>3</th>\n",
       "      <td>611</td>\n",
       "      <td>SixEleven</td>\n",
       "      <td>SHA-256</td>\n",
       "      <td>True</td>\n",
       "      <td>PoW</td>\n",
       "      <td>NaN</td>\n",
       "      <td>611000</td>\n",
       "    </tr>\n",
       "    <tr>\n",
       "      <th>4</th>\n",
       "      <td>808</td>\n",
       "      <td>808</td>\n",
       "      <td>SHA-256</td>\n",
       "      <td>True</td>\n",
       "      <td>PoW/PoS</td>\n",
       "      <td>0.000000e+00</td>\n",
       "      <td>0</td>\n",
       "    </tr>\n",
       "  </tbody>\n",
       "</table>\n",
       "</div>"
      ],
      "text/plain": [
       "  Unnamed: 0   CoinName Algorithm  IsTrading ProofType  TotalCoinsMined  \\\n",
       "0         42    42 Coin    Scrypt       True   PoW/PoS     4.199995e+01   \n",
       "1        365    365Coin       X11       True   PoW/PoS              NaN   \n",
       "2        404    404Coin    Scrypt       True   PoW/PoS     1.055185e+09   \n",
       "3        611  SixEleven   SHA-256       True       PoW              NaN   \n",
       "4        808        808   SHA-256       True   PoW/PoS     0.000000e+00   \n",
       "\n",
       "  TotalCoinSupply  \n",
       "0              42  \n",
       "1      2300000000  \n",
       "2       532000000  \n",
       "3          611000  \n",
       "4               0  "
      ]
     },
     "execution_count": 531,
     "metadata": {},
     "output_type": "execute_result"
    }
   ],
   "source": [
    "# Keep only cryptocurrencies that are trading\n",
    "crypto_df.head()"
   ]
  },
  {
   "cell_type": "code",
   "execution_count": 532,
   "metadata": {},
   "outputs": [],
   "source": [
    "# Keep only cryptocurrencies with a working algorithm\n"
   ]
  },
  {
   "cell_type": "code",
   "execution_count": 533,
   "metadata": {},
   "outputs": [
    {
     "data": {
      "text/html": [
       "<div>\n",
       "<style scoped>\n",
       "    .dataframe tbody tr th:only-of-type {\n",
       "        vertical-align: middle;\n",
       "    }\n",
       "\n",
       "    .dataframe tbody tr th {\n",
       "        vertical-align: top;\n",
       "    }\n",
       "\n",
       "    .dataframe thead th {\n",
       "        text-align: right;\n",
       "    }\n",
       "</style>\n",
       "<table border=\"1\" class=\"dataframe\">\n",
       "  <thead>\n",
       "    <tr style=\"text-align: right;\">\n",
       "      <th></th>\n",
       "      <th>Unnamed: 0</th>\n",
       "      <th>CoinName</th>\n",
       "      <th>Algorithm</th>\n",
       "      <th>ProofType</th>\n",
       "      <th>TotalCoinsMined</th>\n",
       "      <th>TotalCoinSupply</th>\n",
       "    </tr>\n",
       "  </thead>\n",
       "  <tbody>\n",
       "    <tr>\n",
       "      <th>0</th>\n",
       "      <td>42</td>\n",
       "      <td>42 Coin</td>\n",
       "      <td>Scrypt</td>\n",
       "      <td>PoW/PoS</td>\n",
       "      <td>4.199995e+01</td>\n",
       "      <td>42</td>\n",
       "    </tr>\n",
       "    <tr>\n",
       "      <th>1</th>\n",
       "      <td>365</td>\n",
       "      <td>365Coin</td>\n",
       "      <td>X11</td>\n",
       "      <td>PoW/PoS</td>\n",
       "      <td>NaN</td>\n",
       "      <td>2300000000</td>\n",
       "    </tr>\n",
       "    <tr>\n",
       "      <th>2</th>\n",
       "      <td>404</td>\n",
       "      <td>404Coin</td>\n",
       "      <td>Scrypt</td>\n",
       "      <td>PoW/PoS</td>\n",
       "      <td>1.055185e+09</td>\n",
       "      <td>532000000</td>\n",
       "    </tr>\n",
       "    <tr>\n",
       "      <th>3</th>\n",
       "      <td>611</td>\n",
       "      <td>SixEleven</td>\n",
       "      <td>SHA-256</td>\n",
       "      <td>PoW</td>\n",
       "      <td>NaN</td>\n",
       "      <td>611000</td>\n",
       "    </tr>\n",
       "    <tr>\n",
       "      <th>4</th>\n",
       "      <td>808</td>\n",
       "      <td>808</td>\n",
       "      <td>SHA-256</td>\n",
       "      <td>PoW/PoS</td>\n",
       "      <td>0.000000e+00</td>\n",
       "      <td>0</td>\n",
       "    </tr>\n",
       "  </tbody>\n",
       "</table>\n",
       "</div>"
      ],
      "text/plain": [
       "  Unnamed: 0   CoinName Algorithm ProofType  TotalCoinsMined TotalCoinSupply\n",
       "0         42    42 Coin    Scrypt   PoW/PoS     4.199995e+01              42\n",
       "1        365    365Coin       X11   PoW/PoS              NaN      2300000000\n",
       "2        404    404Coin    Scrypt   PoW/PoS     1.055185e+09       532000000\n",
       "3        611  SixEleven   SHA-256       PoW              NaN          611000\n",
       "4        808        808   SHA-256   PoW/PoS     0.000000e+00               0"
      ]
     },
     "execution_count": 533,
     "metadata": {},
     "output_type": "execute_result"
    }
   ],
   "source": [
    "# Remove the \"IsTrading\" column\n",
    "crypto=crypto_df.drop(columns='IsTrading')\n",
    "crypto.head()\n"
   ]
  },
  {
   "cell_type": "code",
   "execution_count": 534,
   "metadata": {},
   "outputs": [
    {
     "data": {
      "text/html": [
       "<div>\n",
       "<style scoped>\n",
       "    .dataframe tbody tr th:only-of-type {\n",
       "        vertical-align: middle;\n",
       "    }\n",
       "\n",
       "    .dataframe tbody tr th {\n",
       "        vertical-align: top;\n",
       "    }\n",
       "\n",
       "    .dataframe thead th {\n",
       "        text-align: right;\n",
       "    }\n",
       "</style>\n",
       "<table border=\"1\" class=\"dataframe\">\n",
       "  <thead>\n",
       "    <tr style=\"text-align: right;\">\n",
       "      <th></th>\n",
       "      <th>Unnamed: 0</th>\n",
       "      <th>CoinName</th>\n",
       "      <th>Algorithm</th>\n",
       "      <th>ProofType</th>\n",
       "      <th>TotalCoinsMined</th>\n",
       "      <th>TotalCoinSupply</th>\n",
       "    </tr>\n",
       "  </thead>\n",
       "  <tbody>\n",
       "    <tr>\n",
       "      <th>0</th>\n",
       "      <td>42</td>\n",
       "      <td>42 Coin</td>\n",
       "      <td>Scrypt</td>\n",
       "      <td>PoW/PoS</td>\n",
       "      <td>4.199995e+01</td>\n",
       "      <td>42</td>\n",
       "    </tr>\n",
       "    <tr>\n",
       "      <th>2</th>\n",
       "      <td>404</td>\n",
       "      <td>404Coin</td>\n",
       "      <td>Scrypt</td>\n",
       "      <td>PoW/PoS</td>\n",
       "      <td>1.055185e+09</td>\n",
       "      <td>532000000</td>\n",
       "    </tr>\n",
       "    <tr>\n",
       "      <th>4</th>\n",
       "      <td>808</td>\n",
       "      <td>808</td>\n",
       "      <td>SHA-256</td>\n",
       "      <td>PoW/PoS</td>\n",
       "      <td>0.000000e+00</td>\n",
       "      <td>0</td>\n",
       "    </tr>\n",
       "    <tr>\n",
       "      <th>5</th>\n",
       "      <td>1337</td>\n",
       "      <td>EliteCoin</td>\n",
       "      <td>X13</td>\n",
       "      <td>PoW/PoS</td>\n",
       "      <td>2.927942e+10</td>\n",
       "      <td>314159265359</td>\n",
       "    </tr>\n",
       "    <tr>\n",
       "      <th>7</th>\n",
       "      <td>BTC</td>\n",
       "      <td>Bitcoin</td>\n",
       "      <td>SHA-256</td>\n",
       "      <td>PoW</td>\n",
       "      <td>1.792718e+07</td>\n",
       "      <td>21000000</td>\n",
       "    </tr>\n",
       "  </tbody>\n",
       "</table>\n",
       "</div>"
      ],
      "text/plain": [
       "  Unnamed: 0   CoinName Algorithm ProofType  TotalCoinsMined TotalCoinSupply\n",
       "0         42    42 Coin    Scrypt   PoW/PoS     4.199995e+01              42\n",
       "2        404    404Coin    Scrypt   PoW/PoS     1.055185e+09       532000000\n",
       "4        808        808   SHA-256   PoW/PoS     0.000000e+00               0\n",
       "5       1337  EliteCoin       X13   PoW/PoS     2.927942e+10    314159265359\n",
       "7        BTC    Bitcoin   SHA-256       PoW     1.792718e+07        21000000"
      ]
     },
     "execution_count": 534,
     "metadata": {},
     "output_type": "execute_result"
    }
   ],
   "source": [
    "# Remove rows with at least 1 null value\n",
    "Crypto_clean=crypto.dropna()\n",
    "Crypto_clean.head()"
   ]
  },
  {
   "cell_type": "code",
   "execution_count": 535,
   "metadata": {},
   "outputs": [
    {
     "name": "stderr",
     "output_type": "stream",
     "text": [
      "/Users/manoloserrano/opt/anaconda3/envs/pyvizenv/lib/python3.7/site-packages/pandas/core/frame.py:3940: SettingWithCopyWarning: \n",
      "A value is trying to be set on a copy of a slice from a DataFrame\n",
      "\n",
      "See the caveats in the documentation: http://pandas.pydata.org/pandas-docs/stable/indexing.html#indexing-view-versus-copy\n",
      "  errors=errors)\n"
     ]
    },
    {
     "data": {
      "text/html": [
       "<div>\n",
       "<style scoped>\n",
       "    .dataframe tbody tr th:only-of-type {\n",
       "        vertical-align: middle;\n",
       "    }\n",
       "\n",
       "    .dataframe tbody tr th {\n",
       "        vertical-align: top;\n",
       "    }\n",
       "\n",
       "    .dataframe thead th {\n",
       "        text-align: right;\n",
       "    }\n",
       "</style>\n",
       "<table border=\"1\" class=\"dataframe\">\n",
       "  <thead>\n",
       "    <tr style=\"text-align: right;\">\n",
       "      <th></th>\n",
       "      <th>Unnamed: 0</th>\n",
       "      <th>CoinName</th>\n",
       "      <th>Algorithm</th>\n",
       "      <th>ProofType</th>\n",
       "      <th>TotalCoinsMined</th>\n",
       "      <th>TotalCoinSupply</th>\n",
       "    </tr>\n",
       "  </thead>\n",
       "  <tbody>\n",
       "    <tr>\n",
       "      <th>0</th>\n",
       "      <td>42</td>\n",
       "      <td>42 Coin</td>\n",
       "      <td>Scrypt</td>\n",
       "      <td>PoW/PoS</td>\n",
       "      <td>4.199995e+01</td>\n",
       "      <td>42</td>\n",
       "    </tr>\n",
       "    <tr>\n",
       "      <th>2</th>\n",
       "      <td>404</td>\n",
       "      <td>404Coin</td>\n",
       "      <td>Scrypt</td>\n",
       "      <td>PoW/PoS</td>\n",
       "      <td>1.055185e+09</td>\n",
       "      <td>532000000</td>\n",
       "    </tr>\n",
       "    <tr>\n",
       "      <th>5</th>\n",
       "      <td>1337</td>\n",
       "      <td>EliteCoin</td>\n",
       "      <td>X13</td>\n",
       "      <td>PoW/PoS</td>\n",
       "      <td>2.927942e+10</td>\n",
       "      <td>314159265359</td>\n",
       "    </tr>\n",
       "    <tr>\n",
       "      <th>7</th>\n",
       "      <td>BTC</td>\n",
       "      <td>Bitcoin</td>\n",
       "      <td>SHA-256</td>\n",
       "      <td>PoW</td>\n",
       "      <td>1.792718e+07</td>\n",
       "      <td>21000000</td>\n",
       "    </tr>\n",
       "    <tr>\n",
       "      <th>8</th>\n",
       "      <td>ETH</td>\n",
       "      <td>Ethereum</td>\n",
       "      <td>Ethash</td>\n",
       "      <td>PoW</td>\n",
       "      <td>1.076842e+08</td>\n",
       "      <td>0</td>\n",
       "    </tr>\n",
       "  </tbody>\n",
       "</table>\n",
       "</div>"
      ],
      "text/plain": [
       "  Unnamed: 0   CoinName Algorithm ProofType  TotalCoinsMined TotalCoinSupply\n",
       "0         42    42 Coin    Scrypt   PoW/PoS     4.199995e+01              42\n",
       "2        404    404Coin    Scrypt   PoW/PoS     1.055185e+09       532000000\n",
       "5       1337  EliteCoin       X13   PoW/PoS     2.927942e+10    314159265359\n",
       "7        BTC    Bitcoin   SHA-256       PoW     1.792718e+07        21000000\n",
       "8        ETH   Ethereum    Ethash       PoW     1.076842e+08               0"
      ]
     },
     "execution_count": 535,
     "metadata": {},
     "output_type": "execute_result"
    }
   ],
   "source": [
    "# Remove rows with cryptocurrencies having no coins mined\n",
    "index_namesMine= Crypto_clean[Crypto_clean['TotalCoinsMined'] == 0].index\n",
    "Crypto_clean.drop(index_namesMine, inplace = True)\n",
    "Crypto_clean.head()"
   ]
  },
  {
   "cell_type": "code",
   "execution_count": 536,
   "metadata": {},
   "outputs": [],
   "source": [
    "# Drop rows where there are 'N/A' text values\n"
   ]
  },
  {
   "cell_type": "code",
   "execution_count": 537,
   "metadata": {},
   "outputs": [],
   "source": [
    "# Store the 'CoinName'column in its own DataFrame prior to dropping it from crypto_df\n",
    "CoinName=Crypto_clean['CoinName']"
   ]
  },
  {
   "cell_type": "code",
   "execution_count": 538,
   "metadata": {},
   "outputs": [
    {
     "data": {
      "text/html": [
       "<div>\n",
       "<style scoped>\n",
       "    .dataframe tbody tr th:only-of-type {\n",
       "        vertical-align: middle;\n",
       "    }\n",
       "\n",
       "    .dataframe tbody tr th {\n",
       "        vertical-align: top;\n",
       "    }\n",
       "\n",
       "    .dataframe thead th {\n",
       "        text-align: right;\n",
       "    }\n",
       "</style>\n",
       "<table border=\"1\" class=\"dataframe\">\n",
       "  <thead>\n",
       "    <tr style=\"text-align: right;\">\n",
       "      <th></th>\n",
       "      <th>Unnamed: 0</th>\n",
       "      <th>Algorithm</th>\n",
       "      <th>ProofType</th>\n",
       "      <th>TotalCoinsMined</th>\n",
       "      <th>TotalCoinSupply</th>\n",
       "    </tr>\n",
       "  </thead>\n",
       "  <tbody>\n",
       "    <tr>\n",
       "      <th>0</th>\n",
       "      <td>42</td>\n",
       "      <td>Scrypt</td>\n",
       "      <td>PoW/PoS</td>\n",
       "      <td>4.199995e+01</td>\n",
       "      <td>42</td>\n",
       "    </tr>\n",
       "    <tr>\n",
       "      <th>2</th>\n",
       "      <td>404</td>\n",
       "      <td>Scrypt</td>\n",
       "      <td>PoW/PoS</td>\n",
       "      <td>1.055185e+09</td>\n",
       "      <td>532000000</td>\n",
       "    </tr>\n",
       "    <tr>\n",
       "      <th>5</th>\n",
       "      <td>1337</td>\n",
       "      <td>X13</td>\n",
       "      <td>PoW/PoS</td>\n",
       "      <td>2.927942e+10</td>\n",
       "      <td>314159265359</td>\n",
       "    </tr>\n",
       "    <tr>\n",
       "      <th>7</th>\n",
       "      <td>BTC</td>\n",
       "      <td>SHA-256</td>\n",
       "      <td>PoW</td>\n",
       "      <td>1.792718e+07</td>\n",
       "      <td>21000000</td>\n",
       "    </tr>\n",
       "    <tr>\n",
       "      <th>8</th>\n",
       "      <td>ETH</td>\n",
       "      <td>Ethash</td>\n",
       "      <td>PoW</td>\n",
       "      <td>1.076842e+08</td>\n",
       "      <td>0</td>\n",
       "    </tr>\n",
       "  </tbody>\n",
       "</table>\n",
       "</div>"
      ],
      "text/plain": [
       "  Unnamed: 0 Algorithm ProofType  TotalCoinsMined TotalCoinSupply\n",
       "0         42    Scrypt   PoW/PoS     4.199995e+01              42\n",
       "2        404    Scrypt   PoW/PoS     1.055185e+09       532000000\n",
       "5       1337       X13   PoW/PoS     2.927942e+10    314159265359\n",
       "7        BTC   SHA-256       PoW     1.792718e+07        21000000\n",
       "8        ETH    Ethash       PoW     1.076842e+08               0"
      ]
     },
     "execution_count": 538,
     "metadata": {},
     "output_type": "execute_result"
    }
   ],
   "source": [
    "# Drop the 'CoinName' column since it's not going to be used on the clustering algorithm\n",
    "Crypto_noCoinName = Crypto_clean.drop(columns='CoinName')\n",
    "Crypto_noCoinName.head()"
   ]
  },
  {
   "cell_type": "code",
   "execution_count": 539,
   "metadata": {},
   "outputs": [
    {
     "data": {
      "text/html": [
       "<div>\n",
       "<style scoped>\n",
       "    .dataframe tbody tr th:only-of-type {\n",
       "        vertical-align: middle;\n",
       "    }\n",
       "\n",
       "    .dataframe tbody tr th {\n",
       "        vertical-align: top;\n",
       "    }\n",
       "\n",
       "    .dataframe thead th {\n",
       "        text-align: right;\n",
       "    }\n",
       "</style>\n",
       "<table border=\"1\" class=\"dataframe\">\n",
       "  <thead>\n",
       "    <tr style=\"text-align: right;\">\n",
       "      <th></th>\n",
       "      <th>TotalCoinsMined</th>\n",
       "      <th>Unnamed: 0_1337</th>\n",
       "      <th>Unnamed: 0_1CR</th>\n",
       "      <th>Unnamed: 0_404</th>\n",
       "      <th>Unnamed: 0_42</th>\n",
       "      <th>Unnamed: 0_8BIT</th>\n",
       "      <th>Unnamed: 0_AAC</th>\n",
       "      <th>Unnamed: 0_ABJ</th>\n",
       "      <th>Unnamed: 0_ABS</th>\n",
       "      <th>Unnamed: 0_ABY</th>\n",
       "      <th>...</th>\n",
       "      <th>TotalCoinSupply_91388946</th>\n",
       "      <th>TotalCoinSupply_92000000000</th>\n",
       "      <th>TotalCoinSupply_9354000</th>\n",
       "      <th>TotalCoinSupply_9507271</th>\n",
       "      <th>TotalCoinSupply_9736000</th>\n",
       "      <th>TotalCoinSupply_98000000</th>\n",
       "      <th>TotalCoinSupply_98100000000</th>\n",
       "      <th>TotalCoinSupply_990000000000</th>\n",
       "      <th>TotalCoinSupply_999481516</th>\n",
       "      <th>TotalCoinSupply_9999999</th>\n",
       "    </tr>\n",
       "  </thead>\n",
       "  <tbody>\n",
       "    <tr>\n",
       "      <th>0</th>\n",
       "      <td>4.199995e+01</td>\n",
       "      <td>0</td>\n",
       "      <td>0</td>\n",
       "      <td>0</td>\n",
       "      <td>1</td>\n",
       "      <td>0</td>\n",
       "      <td>0</td>\n",
       "      <td>0</td>\n",
       "      <td>0</td>\n",
       "      <td>0</td>\n",
       "      <td>...</td>\n",
       "      <td>0</td>\n",
       "      <td>0</td>\n",
       "      <td>0</td>\n",
       "      <td>0</td>\n",
       "      <td>0</td>\n",
       "      <td>0</td>\n",
       "      <td>0</td>\n",
       "      <td>0</td>\n",
       "      <td>0</td>\n",
       "      <td>0</td>\n",
       "    </tr>\n",
       "    <tr>\n",
       "      <th>2</th>\n",
       "      <td>1.055185e+09</td>\n",
       "      <td>0</td>\n",
       "      <td>0</td>\n",
       "      <td>1</td>\n",
       "      <td>0</td>\n",
       "      <td>0</td>\n",
       "      <td>0</td>\n",
       "      <td>0</td>\n",
       "      <td>0</td>\n",
       "      <td>0</td>\n",
       "      <td>...</td>\n",
       "      <td>0</td>\n",
       "      <td>0</td>\n",
       "      <td>0</td>\n",
       "      <td>0</td>\n",
       "      <td>0</td>\n",
       "      <td>0</td>\n",
       "      <td>0</td>\n",
       "      <td>0</td>\n",
       "      <td>0</td>\n",
       "      <td>0</td>\n",
       "    </tr>\n",
       "    <tr>\n",
       "      <th>5</th>\n",
       "      <td>2.927942e+10</td>\n",
       "      <td>1</td>\n",
       "      <td>0</td>\n",
       "      <td>0</td>\n",
       "      <td>0</td>\n",
       "      <td>0</td>\n",
       "      <td>0</td>\n",
       "      <td>0</td>\n",
       "      <td>0</td>\n",
       "      <td>0</td>\n",
       "      <td>...</td>\n",
       "      <td>0</td>\n",
       "      <td>0</td>\n",
       "      <td>0</td>\n",
       "      <td>0</td>\n",
       "      <td>0</td>\n",
       "      <td>0</td>\n",
       "      <td>0</td>\n",
       "      <td>0</td>\n",
       "      <td>0</td>\n",
       "      <td>0</td>\n",
       "    </tr>\n",
       "    <tr>\n",
       "      <th>7</th>\n",
       "      <td>1.792718e+07</td>\n",
       "      <td>0</td>\n",
       "      <td>0</td>\n",
       "      <td>0</td>\n",
       "      <td>0</td>\n",
       "      <td>0</td>\n",
       "      <td>0</td>\n",
       "      <td>0</td>\n",
       "      <td>0</td>\n",
       "      <td>0</td>\n",
       "      <td>...</td>\n",
       "      <td>0</td>\n",
       "      <td>0</td>\n",
       "      <td>0</td>\n",
       "      <td>0</td>\n",
       "      <td>0</td>\n",
       "      <td>0</td>\n",
       "      <td>0</td>\n",
       "      <td>0</td>\n",
       "      <td>0</td>\n",
       "      <td>0</td>\n",
       "    </tr>\n",
       "    <tr>\n",
       "      <th>8</th>\n",
       "      <td>1.076842e+08</td>\n",
       "      <td>0</td>\n",
       "      <td>0</td>\n",
       "      <td>0</td>\n",
       "      <td>0</td>\n",
       "      <td>0</td>\n",
       "      <td>0</td>\n",
       "      <td>0</td>\n",
       "      <td>0</td>\n",
       "      <td>0</td>\n",
       "      <td>...</td>\n",
       "      <td>0</td>\n",
       "      <td>0</td>\n",
       "      <td>0</td>\n",
       "      <td>0</td>\n",
       "      <td>0</td>\n",
       "      <td>0</td>\n",
       "      <td>0</td>\n",
       "      <td>0</td>\n",
       "      <td>0</td>\n",
       "      <td>0</td>\n",
       "    </tr>\n",
       "  </tbody>\n",
       "</table>\n",
       "<p>5 rows × 975 columns</p>\n",
       "</div>"
      ],
      "text/plain": [
       "   TotalCoinsMined  Unnamed: 0_1337  Unnamed: 0_1CR  Unnamed: 0_404  \\\n",
       "0     4.199995e+01                0               0               0   \n",
       "2     1.055185e+09                0               0               1   \n",
       "5     2.927942e+10                1               0               0   \n",
       "7     1.792718e+07                0               0               0   \n",
       "8     1.076842e+08                0               0               0   \n",
       "\n",
       "   Unnamed: 0_42  Unnamed: 0_8BIT  Unnamed: 0_AAC  Unnamed: 0_ABJ  \\\n",
       "0              1                0               0               0   \n",
       "2              0                0               0               0   \n",
       "5              0                0               0               0   \n",
       "7              0                0               0               0   \n",
       "8              0                0               0               0   \n",
       "\n",
       "   Unnamed: 0_ABS  Unnamed: 0_ABY  ...  TotalCoinSupply_91388946  \\\n",
       "0               0               0  ...                         0   \n",
       "2               0               0  ...                         0   \n",
       "5               0               0  ...                         0   \n",
       "7               0               0  ...                         0   \n",
       "8               0               0  ...                         0   \n",
       "\n",
       "   TotalCoinSupply_92000000000  TotalCoinSupply_9354000  \\\n",
       "0                            0                        0   \n",
       "2                            0                        0   \n",
       "5                            0                        0   \n",
       "7                            0                        0   \n",
       "8                            0                        0   \n",
       "\n",
       "   TotalCoinSupply_9507271  TotalCoinSupply_9736000  TotalCoinSupply_98000000  \\\n",
       "0                        0                        0                         0   \n",
       "2                        0                        0                         0   \n",
       "5                        0                        0                         0   \n",
       "7                        0                        0                         0   \n",
       "8                        0                        0                         0   \n",
       "\n",
       "   TotalCoinSupply_98100000000  TotalCoinSupply_990000000000  \\\n",
       "0                            0                             0   \n",
       "2                            0                             0   \n",
       "5                            0                             0   \n",
       "7                            0                             0   \n",
       "8                            0                             0   \n",
       "\n",
       "   TotalCoinSupply_999481516  TotalCoinSupply_9999999  \n",
       "0                          0                        0  \n",
       "2                          0                        0  \n",
       "5                          0                        0  \n",
       "7                          0                        0  \n",
       "8                          0                        0  \n",
       "\n",
       "[5 rows x 975 columns]"
      ]
     },
     "execution_count": 539,
     "metadata": {},
     "output_type": "execute_result"
    }
   ],
   "source": [
    "# Create dummy variables for text features\n",
    "CryptoDummies=pd.get_dummies(Crypto_noCoinName)\n",
    "CryptoDummies.head()"
   ]
  },
  {
   "cell_type": "code",
   "execution_count": 563,
   "metadata": {},
   "outputs": [
    {
     "name": "stdout",
     "output_type": "stream",
     "text": [
      "[[-0.11416167 -0.04163054 -0.04163054 ... -0.04163054 -0.04163054\n",
      "  -0.04163054]\n",
      " [-0.09006124 -0.04163054 -0.04163054 ... -0.04163054 -0.04163054\n",
      "  -0.04163054]\n",
      " [ 0.55458069 24.0208243  -0.04163054 ... -0.04163054 -0.04163054\n",
      "  -0.04163054]\n",
      " [-0.11375222 -0.04163054 -0.04163054 ... -0.04163054 -0.04163054\n",
      "  -0.04163054]\n",
      " [-0.11170216 -0.04163054 -0.04163054 ... -0.04163054 -0.04163054\n",
      "  -0.04163054]]\n"
     ]
    }
   ],
   "source": [
    "# Standardize data\n",
    "#CryptoScaled=StandardScaler(CryptoDummies)\n",
    "CryptoScaled=StandardScaler().fit_transform(CryptoDummies)\n",
    "print(CryptoScaled[0:5])\n"
   ]
  },
  {
   "cell_type": "markdown",
   "metadata": {},
   "source": [
    "### Reducing Dimensions Using PCA"
   ]
  },
  {
   "cell_type": "code",
   "execution_count": 564,
   "metadata": {},
   "outputs": [],
   "source": [
    "# Use PCA to reduce dimensions to 3 principal components\n",
    "pca = PCA(n_components=2)\n",
    "\n",
    "Crypto_pca = pca.fit_transform(CryptoScaled)"
   ]
  },
  {
   "cell_type": "code",
   "execution_count": 565,
   "metadata": {},
   "outputs": [
    {
     "data": {
      "text/html": [
       "<div>\n",
       "<style scoped>\n",
       "    .dataframe tbody tr th:only-of-type {\n",
       "        vertical-align: middle;\n",
       "    }\n",
       "\n",
       "    .dataframe tbody tr th {\n",
       "        vertical-align: top;\n",
       "    }\n",
       "\n",
       "    .dataframe thead th {\n",
       "        text-align: right;\n",
       "    }\n",
       "</style>\n",
       "<table border=\"1\" class=\"dataframe\">\n",
       "  <thead>\n",
       "    <tr style=\"text-align: right;\">\n",
       "      <th></th>\n",
       "      <th>principal component 1</th>\n",
       "      <th>principal component 2</th>\n",
       "    </tr>\n",
       "  </thead>\n",
       "  <tbody>\n",
       "    <tr>\n",
       "      <th>0</th>\n",
       "      <td>-0.375121</td>\n",
       "      <td>-0.083969</td>\n",
       "    </tr>\n",
       "    <tr>\n",
       "      <th>1</th>\n",
       "      <td>-0.334744</td>\n",
       "      <td>-0.158883</td>\n",
       "    </tr>\n",
       "    <tr>\n",
       "      <th>2</th>\n",
       "      <td>0.547754</td>\n",
       "      <td>-0.264012</td>\n",
       "    </tr>\n",
       "    <tr>\n",
       "      <th>3</th>\n",
       "      <td>-0.218248</td>\n",
       "      <td>0.007145</td>\n",
       "    </tr>\n",
       "    <tr>\n",
       "      <th>4</th>\n",
       "      <td>0.058980</td>\n",
       "      <td>0.158930</td>\n",
       "    </tr>\n",
       "  </tbody>\n",
       "</table>\n",
       "</div>"
      ],
      "text/plain": [
       "   principal component 1  principal component 2\n",
       "0              -0.375121              -0.083969\n",
       "1              -0.334744              -0.158883\n",
       "2               0.547754              -0.264012\n",
       "3              -0.218248               0.007145\n",
       "4               0.058980               0.158930"
      ]
     },
     "execution_count": 565,
     "metadata": {},
     "output_type": "execute_result"
    }
   ],
   "source": [
    "# Create a DataFrame with the principal components data\n",
    "df_Crypto_pca = pd.DataFrame(\n",
    "    data=Crypto_pca, columns=[\"principal component 1\", \"principal component 2\"]\n",
    ")\n",
    "df_Crypto_pca.head()"
   ]
  },
  {
   "cell_type": "markdown",
   "metadata": {},
   "source": [
    "### Clustering Crytocurrencies Using K-Means\n",
    "\n",
    "#### Find the Best Value for `k` Using the Elbow Curve"
   ]
  },
  {
   "cell_type": "code",
   "execution_count": 566,
   "metadata": {},
   "outputs": [
    {
     "data": {
      "application/vnd.holoviews_exec.v0+json": "",
      "text/html": [
       "<div id='1002'>\n",
       "\n",
       "\n",
       "\n",
       "\n",
       "\n",
       "  <div class=\"bk-root\" id=\"86359ef4-dae1-4768-9efd-3e25f4ba2485\" data-root-id=\"1002\"></div>\n",
       "</div>\n",
       "<script type=\"application/javascript\">(function(root) {\n",
       "  function embed_document(root) {\n",
       "    var docs_json = {\"1d0248f1-389c-4209-a0ca-14625d5a25a1\":{\"defs\":[{\"extends\":null,\"module\":null,\"name\":\"ReactiveHTML1\",\"overrides\":[],\"properties\":[]},{\"extends\":null,\"module\":null,\"name\":\"FlexBox1\",\"overrides\":[],\"properties\":[{\"default\":\"flex-start\",\"kind\":null,\"name\":\"align_content\"},{\"default\":\"flex-start\",\"kind\":null,\"name\":\"align_items\"},{\"default\":\"row\",\"kind\":null,\"name\":\"flex_direction\"},{\"default\":\"wrap\",\"kind\":null,\"name\":\"flex_wrap\"},{\"default\":\"flex-start\",\"kind\":null,\"name\":\"justify_content\"}]},{\"extends\":null,\"module\":null,\"name\":\"TemplateActions1\",\"overrides\":[],\"properties\":[{\"default\":0,\"kind\":null,\"name\":\"open_modal\"},{\"default\":0,\"kind\":null,\"name\":\"close_modal\"}]},{\"extends\":null,\"module\":null,\"name\":\"MaterialTemplateActions1\",\"overrides\":[],\"properties\":[{\"default\":0,\"kind\":null,\"name\":\"open_modal\"},{\"default\":0,\"kind\":null,\"name\":\"close_modal\"}]}],\"roots\":{\"references\":[{\"attributes\":{\"children\":[{\"id\":\"1003\"},{\"id\":\"1007\"},{\"id\":\"1073\"}],\"margin\":[0,0,0,0],\"name\":\"Row01627\",\"tags\":[\"embedded\"]},\"id\":\"1002\",\"type\":\"Row\"},{\"attributes\":{\"margin\":[5,5,5,5],\"name\":\"HSpacer01632\",\"sizing_mode\":\"stretch_width\"},\"id\":\"1073\",\"type\":\"Spacer\"},{\"attributes\":{\"axis\":{\"id\":\"1020\"},\"dimension\":1,\"grid_line_color\":null,\"ticker\":null},\"id\":\"1023\",\"type\":\"Grid\"},{\"attributes\":{},\"id\":\"1021\",\"type\":\"BasicTicker\"},{\"attributes\":{\"margin\":[5,5,5,5],\"name\":\"HSpacer01631\",\"sizing_mode\":\"stretch_width\"},\"id\":\"1003\",\"type\":\"Spacer\"},{\"attributes\":{\"axis_label\":\"k\",\"formatter\":{\"id\":\"1049\"},\"major_label_policy\":{\"id\":\"1048\"},\"ticker\":{\"id\":\"1046\"}},\"id\":\"1016\",\"type\":\"LinearAxis\"},{\"attributes\":{\"axis_label\":\"inertia\",\"formatter\":{\"id\":\"1054\"},\"major_label_policy\":{\"id\":\"1053\"},\"ticker\":{\"id\":\"1021\"}},\"id\":\"1020\",\"type\":\"LinearAxis\"},{\"attributes\":{\"source\":{\"id\":\"1037\"}},\"id\":\"1044\",\"type\":\"CDSView\"},{\"attributes\":{\"line_alpha\":0.2,\"line_color\":\"#30a2da\",\"line_width\":2,\"x\":{\"field\":\"k\"},\"y\":{\"field\":\"inertia\"}},\"id\":\"1042\",\"type\":\"Line\"},{\"attributes\":{\"line_color\":\"#30a2da\",\"line_width\":2,\"x\":{\"field\":\"k\"},\"y\":{\"field\":\"inertia\"}},\"id\":\"1040\",\"type\":\"Line\"},{\"attributes\":{\"bottom_units\":\"screen\",\"fill_alpha\":0.5,\"fill_color\":\"lightgrey\",\"left_units\":\"screen\",\"level\":\"overlay\",\"line_alpha\":1.0,\"line_color\":\"black\",\"line_dash\":[4,4],\"line_width\":2,\"right_units\":\"screen\",\"syncable\":false,\"top_units\":\"screen\"},\"id\":\"1029\",\"type\":\"BoxAnnotation\"},{\"attributes\":{\"data_source\":{\"id\":\"1037\"},\"glyph\":{\"id\":\"1040\"},\"hover_glyph\":null,\"muted_glyph\":{\"id\":\"1042\"},\"nonselection_glyph\":{\"id\":\"1041\"},\"selection_glyph\":{\"id\":\"1045\"},\"view\":{\"id\":\"1044\"}},\"id\":\"1043\",\"type\":\"GlyphRenderer\"},{\"attributes\":{},\"id\":\"1024\",\"type\":\"SaveTool\"},{\"attributes\":{\"end\":10.0,\"reset_end\":10.0,\"reset_start\":1.0,\"start\":1.0,\"tags\":[[[\"k\",\"k\",null]]]},\"id\":\"1004\",\"type\":\"Range1d\"},{\"attributes\":{},\"id\":\"1012\",\"type\":\"LinearScale\"},{\"attributes\":{\"data\":{\"inertia\":{\"__ndarray__\":\"IrV2LR1RskDSIpbIrNylQF66QCe5ypdAfnaMgVvJiECQOGsD13SAQBvNqWugF3FAQ8Bw8htdY0Dvu8jkw0ZeQOvsWMqh4VZAUJH4G8LOUkA=\",\"dtype\":\"float64\",\"order\":\"little\",\"shape\":[10]},\"k\":[1,2,3,4,5,6,7,8,9,10]},\"selected\":{\"id\":\"1038\"},\"selection_policy\":{\"id\":\"1062\"}},\"id\":\"1037\",\"type\":\"ColumnDataSource\"},{\"attributes\":{\"line_color\":\"#30a2da\",\"line_width\":2,\"x\":{\"field\":\"k\"},\"y\":{\"field\":\"inertia\"}},\"id\":\"1045\",\"type\":\"Line\"},{\"attributes\":{\"ticks\":[1,2,3,4,5,6,7,8,9,10]},\"id\":\"1046\",\"type\":\"FixedTicker\"},{\"attributes\":{},\"id\":\"1025\",\"type\":\"PanTool\"},{\"attributes\":{\"below\":[{\"id\":\"1016\"}],\"center\":[{\"id\":\"1019\"},{\"id\":\"1023\"}],\"height\":300,\"left\":[{\"id\":\"1020\"}],\"margin\":[5,5,5,5],\"min_border_bottom\":10,\"min_border_left\":10,\"min_border_right\":10,\"min_border_top\":10,\"renderers\":[{\"id\":\"1043\"}],\"sizing_mode\":\"fixed\",\"title\":{\"id\":\"1008\"},\"toolbar\":{\"id\":\"1030\"},\"width\":700,\"x_range\":{\"id\":\"1004\"},\"x_scale\":{\"id\":\"1012\"},\"y_range\":{\"id\":\"1005\"},\"y_scale\":{\"id\":\"1014\"}},\"id\":\"1007\",\"subtype\":\"Figure\",\"type\":\"Plot\"},{\"attributes\":{\"callback\":null,\"renderers\":[{\"id\":\"1043\"}],\"tags\":[\"hv_created\"],\"tooltips\":[[\"k\",\"@{k}\"],[\"inertia\",\"@{inertia}\"]]},\"id\":\"1006\",\"type\":\"HoverTool\"},{\"attributes\":{},\"id\":\"1026\",\"type\":\"WheelZoomTool\"},{\"attributes\":{},\"id\":\"1062\",\"type\":\"UnionRenderers\"},{\"attributes\":{\"active_multi\":null,\"tools\":[{\"id\":\"1006\"},{\"id\":\"1024\"},{\"id\":\"1025\"},{\"id\":\"1026\"},{\"id\":\"1027\"},{\"id\":\"1028\"}]},\"id\":\"1030\",\"type\":\"Toolbar\"},{\"attributes\":{\"overlay\":{\"id\":\"1029\"}},\"id\":\"1027\",\"type\":\"BoxZoomTool\"},{\"attributes\":{},\"id\":\"1038\",\"type\":\"Selection\"},{\"attributes\":{},\"id\":\"1014\",\"type\":\"LinearScale\"},{\"attributes\":{\"line_alpha\":0.1,\"line_color\":\"#30a2da\",\"line_width\":2,\"x\":{\"field\":\"k\"},\"y\":{\"field\":\"inertia\"}},\"id\":\"1041\",\"type\":\"Line\"},{\"attributes\":{},\"id\":\"1053\",\"type\":\"AllLabels\"},{\"attributes\":{\"end\":5150.502312719221,\"reset_end\":5150.502312719221,\"reset_start\":-386.1577402590811,\"start\":-386.1577402590811,\"tags\":[[[\"inertia\",\"inertia\",null]]]},\"id\":\"1005\",\"type\":\"Range1d\"},{\"attributes\":{},\"id\":\"1054\",\"type\":\"BasicTickFormatter\"},{\"attributes\":{},\"id\":\"1028\",\"type\":\"ResetTool\"},{\"attributes\":{},\"id\":\"1049\",\"type\":\"BasicTickFormatter\"},{\"attributes\":{},\"id\":\"1048\",\"type\":\"AllLabels\"},{\"attributes\":{\"text\":\"Elbow Cure\",\"text_color\":\"black\",\"text_font_size\":\"12pt\"},\"id\":\"1008\",\"type\":\"Title\"},{\"attributes\":{\"axis\":{\"id\":\"1016\"},\"grid_line_color\":null,\"ticker\":null},\"id\":\"1019\",\"type\":\"Grid\"}],\"root_ids\":[\"1002\"]},\"title\":\"Bokeh Application\",\"version\":\"2.3.2\"}};\n",
       "    var render_items = [{\"docid\":\"1d0248f1-389c-4209-a0ca-14625d5a25a1\",\"root_ids\":[\"1002\"],\"roots\":{\"1002\":\"86359ef4-dae1-4768-9efd-3e25f4ba2485\"}}];\n",
       "    root.Bokeh.embed.embed_items_notebook(docs_json, render_items);\n",
       "  }\n",
       "  if (root.Bokeh !== undefined && root.Bokeh.Panel !== undefined) {\n",
       "    embed_document(root);\n",
       "  } else {\n",
       "    var attempts = 0;\n",
       "    var timer = setInterval(function(root) {\n",
       "      if (root.Bokeh !== undefined && root.Bokeh.Panel !== undefined) {\n",
       "        clearInterval(timer);\n",
       "        embed_document(root);\n",
       "      } else if (document.readyState == \"complete\") {\n",
       "        attempts++;\n",
       "        if (attempts > 200) {\n",
       "          clearInterval(timer);\n",
       "          console.log(\"Bokeh: ERROR: Unable to run BokehJS code because BokehJS library is missing\");\n",
       "        }\n",
       "      }\n",
       "    }, 25, root)\n",
       "  }\n",
       "})(window);</script>"
      ],
      "text/plain": [
       ":Curve   [k]   (inertia)"
      ]
     },
     "execution_count": 566,
     "metadata": {
      "application/vnd.holoviews_exec.v0+json": {
       "id": "1002"
      }
     },
     "output_type": "execute_result"
    }
   ],
   "source": [
    "inertia = []\n",
    "k = list(range(1, 11))\n",
    "\n",
    "# Calculate the inertia for the range of k values\n",
    "for i in k:\n",
    "    km = KMeans(n_clusters=i, random_state=0)\n",
    "    km.fit(df_Crypto_pca)\n",
    "    inertia.append(km.inertia_)\n",
    "\n",
    "# Create the Elbow Curve using hvPlot\n",
    "\n",
    "elbow_data = {\"k\": k, \"inertia\": inertia}\n",
    "df_elbow = pd.DataFrame(elbow_data)\n",
    "df_elbow.hvplot.line(x='k', y='inertia', xticks=k, title='Elbow Cure')"
   ]
  },
  {
   "cell_type": "markdown",
   "metadata": {},
   "source": [
    "Running K-Means with `k=<your best value for k here>`"
   ]
  },
  {
   "cell_type": "code",
   "execution_count": 572,
   "metadata": {},
   "outputs": [
    {
     "data": {
      "text/html": [
       "<div>\n",
       "<style scoped>\n",
       "    .dataframe tbody tr th:only-of-type {\n",
       "        vertical-align: middle;\n",
       "    }\n",
       "\n",
       "    .dataframe tbody tr th {\n",
       "        vertical-align: top;\n",
       "    }\n",
       "\n",
       "    .dataframe thead th {\n",
       "        text-align: right;\n",
       "    }\n",
       "</style>\n",
       "<table border=\"1\" class=\"dataframe\">\n",
       "  <thead>\n",
       "    <tr style=\"text-align: right;\">\n",
       "      <th></th>\n",
       "      <th>principal component 1</th>\n",
       "      <th>principal component 2</th>\n",
       "      <th>class</th>\n",
       "    </tr>\n",
       "  </thead>\n",
       "  <tbody>\n",
       "    <tr>\n",
       "      <th>0</th>\n",
       "      <td>-0.375121</td>\n",
       "      <td>-0.083969</td>\n",
       "      <td>0</td>\n",
       "    </tr>\n",
       "    <tr>\n",
       "      <th>1</th>\n",
       "      <td>-0.334744</td>\n",
       "      <td>-0.158883</td>\n",
       "      <td>0</td>\n",
       "    </tr>\n",
       "    <tr>\n",
       "      <th>2</th>\n",
       "      <td>0.547754</td>\n",
       "      <td>-0.264012</td>\n",
       "      <td>0</td>\n",
       "    </tr>\n",
       "    <tr>\n",
       "      <th>3</th>\n",
       "      <td>-0.218248</td>\n",
       "      <td>0.007145</td>\n",
       "      <td>0</td>\n",
       "    </tr>\n",
       "    <tr>\n",
       "      <th>4</th>\n",
       "      <td>0.058980</td>\n",
       "      <td>0.158930</td>\n",
       "      <td>0</td>\n",
       "    </tr>\n",
       "  </tbody>\n",
       "</table>\n",
       "</div>"
      ],
      "text/plain": [
       "   principal component 1  principal component 2  class\n",
       "0              -0.375121              -0.083969      0\n",
       "1              -0.334744              -0.158883      0\n",
       "2               0.547754              -0.264012      0\n",
       "3              -0.218248               0.007145      0\n",
       "4               0.058980               0.158930      0"
      ]
     },
     "execution_count": 572,
     "metadata": {},
     "output_type": "execute_result"
    }
   ],
   "source": [
    "# Initialize the K-Means model\n",
    "\n",
    "model = KMeans(n_clusters=3, random_state=0)\n",
    "\n",
    "# Fit the model\n",
    "\n",
    "model.fit(Crypto_pca)\n",
    "\n",
    "# Predict clusters\n",
    "\n",
    "predictions = model.predict(df_Crypto_pca)\n",
    "\n",
    "# Create a new DataFrame including predicted clusters and cryptocurrencies features\n",
    "\n",
    "df_Crypto_pca['class'] = model.labels_\n",
    "df_Crypto_pca.head()"
   ]
  },
  {
   "cell_type": "markdown",
   "metadata": {},
   "source": [
    "### Visualizing Results\n",
    "\n",
    "#### 3D-Scatter with Clusters"
   ]
  },
  {
   "cell_type": "code",
   "execution_count": 573,
   "metadata": {},
   "outputs": [
    {
     "data": {
      "application/vnd.holoviews_exec.v0+json": "",
      "text/html": [
       "<div id='1120'>\n",
       "\n",
       "\n",
       "\n",
       "\n",
       "\n",
       "  <div class=\"bk-root\" id=\"6ae3c84e-7850-4e1d-835c-92c48519b5dd\" data-root-id=\"1120\"></div>\n",
       "</div>\n",
       "<script type=\"application/javascript\">(function(root) {\n",
       "  function embed_document(root) {\n",
       "    var docs_json = {\"65cd845c-d94a-4af7-943e-afb0d3de2ed0\":{\"defs\":[{\"extends\":null,\"module\":null,\"name\":\"ReactiveHTML1\",\"overrides\":[],\"properties\":[]},{\"extends\":null,\"module\":null,\"name\":\"FlexBox1\",\"overrides\":[],\"properties\":[{\"default\":\"flex-start\",\"kind\":null,\"name\":\"align_content\"},{\"default\":\"flex-start\",\"kind\":null,\"name\":\"align_items\"},{\"default\":\"row\",\"kind\":null,\"name\":\"flex_direction\"},{\"default\":\"wrap\",\"kind\":null,\"name\":\"flex_wrap\"},{\"default\":\"flex-start\",\"kind\":null,\"name\":\"justify_content\"}]},{\"extends\":null,\"module\":null,\"name\":\"TemplateActions1\",\"overrides\":[],\"properties\":[{\"default\":0,\"kind\":null,\"name\":\"open_modal\"},{\"default\":0,\"kind\":null,\"name\":\"close_modal\"}]},{\"extends\":null,\"module\":null,\"name\":\"MaterialTemplateActions1\",\"overrides\":[],\"properties\":[{\"default\":0,\"kind\":null,\"name\":\"open_modal\"},{\"default\":0,\"kind\":null,\"name\":\"close_modal\"}]}],\"roots\":{\"references\":[{\"attributes\":{\"data_source\":{\"id\":\"1184\"},\"glyph\":{\"id\":\"1187\"},\"hover_glyph\":null,\"muted_glyph\":{\"id\":\"1189\"},\"nonselection_glyph\":{\"id\":\"1188\"},\"selection_glyph\":{\"id\":\"1205\"},\"view\":{\"id\":\"1191\"}},\"id\":\"1190\",\"type\":\"GlyphRenderer\"},{\"attributes\":{},\"id\":\"1141\",\"type\":\"BasicTicker\"},{\"attributes\":{},\"id\":\"1226\",\"type\":\"UnionRenderers\"},{\"attributes\":{},\"id\":\"1159\",\"type\":\"BasicTickFormatter\"},{\"attributes\":{},\"id\":\"1185\",\"type\":\"Selection\"},{\"attributes\":{\"below\":[{\"id\":\"1136\"}],\"center\":[{\"id\":\"1139\"},{\"id\":\"1143\"}],\"height\":300,\"left\":[{\"id\":\"1140\"}],\"margin\":[5,5,5,5],\"min_border_bottom\":10,\"min_border_left\":10,\"min_border_right\":10,\"min_border_top\":10,\"renderers\":[{\"id\":\"1169\"},{\"id\":\"1190\"},{\"id\":\"1212\"}],\"right\":[{\"id\":\"1181\"}],\"sizing_mode\":\"fixed\",\"title\":{\"id\":\"1128\"},\"toolbar\":{\"id\":\"1150\"},\"width\":700,\"x_range\":{\"id\":\"1122\"},\"x_scale\":{\"id\":\"1132\"},\"y_range\":{\"id\":\"1123\"},\"y_scale\":{\"id\":\"1134\"}},\"id\":\"1127\",\"subtype\":\"Figure\",\"type\":\"Plot\"},{\"attributes\":{\"data\":{\"class\":{\"__ndarray__\":\"AQAAAAEAAAA=\",\"dtype\":\"int32\",\"order\":\"little\",\"shape\":[2]},\"principal component 1\":{\"__ndarray__\":\"gx5EcdyJKEABC7R3V60QwA==\",\"dtype\":\"float64\",\"order\":\"little\",\"shape\":[2]},\"principal component 2\":{\"__ndarray__\":\"9u0hOBzFMEAWhXSY/H1AQA==\",\"dtype\":\"float64\",\"order\":\"little\",\"shape\":[2]},\"principal_component_1\":{\"__ndarray__\":\"gx5EcdyJKEABC7R3V60QwA==\",\"dtype\":\"float64\",\"order\":\"little\",\"shape\":[2]},\"principal_component_2\":{\"__ndarray__\":\"9u0hOBzFMEAWhXSY/H1AQA==\",\"dtype\":\"float64\",\"order\":\"little\",\"shape\":[2]}},\"selected\":{\"id\":\"1185\"},\"selection_policy\":{\"id\":\"1202\"}},\"id\":\"1184\",\"type\":\"ColumnDataSource\"},{\"attributes\":{\"fill_alpha\":{\"value\":0.2},\"fill_color\":{\"value\":\"#fc4f30\"},\"line_alpha\":{\"value\":0.2},\"line_color\":{\"value\":\"#fc4f30\"},\"size\":{\"value\":5.477225575051661},\"x\":{\"field\":\"principal component 1\"},\"y\":{\"field\":\"principal component 2\"}},\"id\":\"1189\",\"type\":\"Scatter\"},{\"attributes\":{\"axis_label\":\"principal component 2\",\"formatter\":{\"id\":\"1162\"},\"major_label_policy\":{\"id\":\"1161\"},\"ticker\":{\"id\":\"1141\"}},\"id\":\"1140\",\"type\":\"LinearAxis\"},{\"attributes\":{\"label\":{\"value\":\"1\"},\"renderers\":[{\"id\":\"1190\"}]},\"id\":\"1204\",\"type\":\"LegendItem\"},{\"attributes\":{\"margin\":[5,5,5,5],\"name\":\"HSpacer01880\",\"sizing_mode\":\"stretch_width\"},\"id\":\"1121\",\"type\":\"Spacer\"},{\"attributes\":{},\"id\":\"1132\",\"type\":\"LinearScale\"},{\"attributes\":{},\"id\":\"1162\",\"type\":\"BasicTickFormatter\"},{\"attributes\":{},\"id\":\"1202\",\"type\":\"UnionRenderers\"},{\"attributes\":{\"end\":38.96075535997647,\"reset_end\":38.96075535997647,\"reset_start\":-32.757055714641496,\"start\":-32.757055714641496,\"tags\":[[[\"principal component 2\",\"principal component 2\",null]]]},\"id\":\"1123\",\"type\":\"Range1d\"},{\"attributes\":{\"bottom_units\":\"screen\",\"fill_alpha\":0.5,\"fill_color\":\"lightgrey\",\"left_units\":\"screen\",\"level\":\"overlay\",\"line_alpha\":1.0,\"line_color\":\"black\",\"line_dash\":[4,4],\"line_width\":2,\"right_units\":\"screen\",\"syncable\":false,\"top_units\":\"screen\"},\"id\":\"1149\",\"type\":\"BoxAnnotation\"},{\"attributes\":{\"text_color\":\"black\",\"text_font_size\":\"12pt\"},\"id\":\"1128\",\"type\":\"Title\"},{\"attributes\":{\"axis_label\":\"principal component 1\",\"formatter\":{\"id\":\"1159\"},\"major_label_policy\":{\"id\":\"1158\"},\"ticker\":{\"id\":\"1137\"}},\"id\":\"1136\",\"type\":\"LinearAxis\"},{\"attributes\":{\"source\":{\"id\":\"1184\"}},\"id\":\"1191\",\"type\":\"CDSView\"},{\"attributes\":{\"source\":{\"id\":\"1206\"}},\"id\":\"1213\",\"type\":\"CDSView\"},{\"attributes\":{\"data\":{\"class\":{\"__ndarray__\":\"AAAAAAAAAAAAAAAAAAAAAAAAAAAAAAAAAAAAAAAAAAAAAAAAAAAAAAAAAAAAAAAAAAAAAAAAAAAAAAAAAAAAAAAAAAAAAAAAAAAAAAAAAAAAAAAAAAAAAAAAAAAAAAAAAAAAAAAAAAAAAAAAAAAAAAAAAAAAAAAAAAAAAAAAAAAAAAAAAAAAAAAAAAAAAAAAAAAAAAAAAAAAAAAAAAAAAAAAAAAAAAAAAAAAAAAAAAAAAAAAAAAAAAAAAAAAAAAAAAAAAAAAAAAAAAAAAAAAAAAAAAAAAAAAAAAAAAAAAAAAAAAAAAAAAAAAAAAAAAAAAAAAAAAAAAAAAAAAAAAAAAAAAAAAAAAAAAAAAAAAAAAAAAAAAAAAAAAAAAAAAAAAAAAAAAAAAAAAAAAAAAAAAAAAAAAAAAAAAAAAAAAAAAAAAAAAAAAAAAAAAAAAAAAAAAAAAAAAAAAAAAAAAAAAAAAAAAAAAAAAAAAAAAAAAAAAAAAAAAAAAAAAAAAAAAAAAAAAAAAAAAAAAAAAAAAAAAAAAAAAAAAAAAAAAAAAAAAAAAAAAAAAAAAAAAAAAAAAAAAAAAAAAAAAAAAAAAAAAAAAAAAAAAAAAAAAAAAAAAAAAAAAAAAAAAAAAAAAAAAAAAAAAAAAAAAAAAAAAAAAAAAAAAAAAAAAAAAAAAAAAAAAAAAAAAAAAAAAAAAAAAAAAAAAAAAAAAAAAAAAAAAAAAAAAAAAAAAAAAAAAAAAAAAAAAAAAAAAAAAAAAAAAAAAAAAAAAAAAAAAAAAAAAAAAAAAAAAAAAAAAAAAAAAAAAAAAAAAAAAAAAAAAAAAAAAAAAAAAAAAAAAAAAAAAAAAAAAAAAAAAAAAAAAAAAAAAAAAAAAAAAAAAAAAAAAAAAAAAAAAAAAAAAAAAAAAAAAAAAAAAAAAAAAAAAAAAAAAAAAAAAAAAAAAAAAAAAAAAAAAAAAAAAAAAAAAAAAAAAAAAAAAAAAAAAAAAAAAAAAAAAAAAAAAAAAAAAAAAAAAAAAAAAAAAAAAAAAAAAAAAAAAAAAAAAAAAAAAAAAAAAAAAAAAAAAAAAAAAAAAAAAAAAAAAAAAAAAAAAAAAAAAAAAAAAAAAAAAAAAAAAAAAAAAAAAAAAAAAAAAAAAAAAAAAAAAAAAAAAAAAAAAAAAAAAAAAAAAAAAAAAAAAAAAAAAAAAAAAAAAAAAAAAAAAAAAAAAAAAAAAAAAAAAAAAAAAAAAAAAAAAAAAAAAAAAAAAAAAAAAAAAAAAAAAAAAAAAAAAAAAAAAAAAAAAAAAAAAAAAAAAAAAAAAAAAAAAAAAAAAAAAAAAAAAAAAAAAAAAAAAAAAAAAAAAAAAAAAAAAAAAAAAAAAAAAAAAAAAAAAAAAAAAAAAAAAAAAAAAAAAAAAAAAAAAAAAAAAAAAAAAAAAAAAAAAAAAAAAAAAAAAAAAAAAAAAAAAAAAAAAAAAAAAAAAAAAAAAAAAAAAAAAAAAAAAAAAAAAAAAAAAAAAAAAAAAAAAAAAAAAAAAAAAAAAAAAAAAAAAAAAAAAAAAAAAAAAAAAAAAAAAAAAAAAAAAAAAAAAAAAAAAAAAAAAAAAAAAAAAAAAAAAAAAAAAAAAAAAAAAAAAAAAAAAAAAAAAAAAAAAAAAAAAAAAAAAAAAAAAAAAAAAAAAAAAAAAAAAAAAAAAAAAAAAAAAAAAAAAAAAAAAAAAAAAAAAAAAAAAAAAAAAAAAAAAAAAAAAAAAAAAAAAAAAAAAAAAAAAAAAAAAAAAAAAAAAAAAAAAAAAAAAAAAAAAAAAAAAAAAAAAAAAAAAAAAAAAAAAAAAAAAAAAAAAAAAAAAAAAAAAAAAAAAAAAAAAAAAAAAAAAAAAAAAAAAAAAAAAAAAAAAAAAAAAAAAAAAAAAAAAAAAAAAAAAAAAAAAAAAAAAAAAAAAAAAAAAAAAAAAAAAAAAAAAAAAAAAAAAAAAAAAAAAAAAAAAAAAAAAAAAAAAAAAAAAAAAAAAAAAAAAAAAAAAAAAAAAAAAAAAAAAAAAAAAAAAAAAAAAAAAAAAAAAAAAAAAAAAAAAAAAAAAAAAAAAAAAAAAAAAAAAAAAAAAAAAAAAAAAAAAAAAAAAAAAAAAAAAAAAAAAAAAAAAAAAAAAAAAAAAAAAAAAAAAAAAAAAAAAAAAAAAAAAAAAAAAAAAAAAAAAAAAAAAAAAAAAAAAAAAAAAAAAAAAAAAAAAAAAAAAAAAAAAAAAAAAAAAAAAAAAAAAAAAAAAAAAAAAAAAAAAAAAAAAAAAAAAAAAAAAAAAAAAAAAAAAAAAAAAAAAAAAAAAAAAAAAAAAAAAAAAAAAAAAAAAAAAAAAAAAAAAAAAAAAAAAAAAAAAAAAAAAAAAAAAAAAAAAAAAAAAAAAAAAAAAAAAAAAAAAAAAAAAAAAAAAAAAAAAAAAAAAAAAAAAAAAAAAAAAAAAAAAAAAAAAAAAAAAAAAAAAAAAAAAAAAAAAAAAAAAAAAAAAAAAAAAAAAAAAAAAAAAAAAAAAAAAAAAAAAAAAAAAAAAAAAAAAAAAAAAAAAAAAAAAAAAAAAAAAAAAAAAAAAAAAAAAAAAAAAAAAAAAAAAAAAAAAAAAAAAAAAAAAAAAAAAAAAAAAAAAAAAAAAAAAAAAAAAAAAAAAAAAAAAAAAAAAAAAAAAAAAAAAAAAAAAAAAAAAAAAAAAAAAAAAAAAAAAAAAAAAAAAAAAAAAAAAAAAAAAAAAAAAAAAAAAAAAAAAAAAAAAAAAAAAAAAAAAAAAAAAAAAAAAAAAAAAAAAAAAAAAAAAAAAAAAAAAAAAAAAAAAAAAAAAAAAAAAAAAAAAAAAAAAAAAAAAAAAAAAAAAAAAAAAAAAAAAAAAAAAAAAAAAAAAAAAAAAAAAAAAAAAAAAAAAAAAAAAAAAAAAAAAAAAAAAAAAAAAAAAAAAAAAAAAAAAAAAAAAAAAAAAAAAAAAAAAAAAAAAAAAAAAAAAAAAAAAAAAAAAAAAAAAAAAAAAAAAAAAAAAAAAAAAAAAAAAAAAAAAAAAAAAAAAAAAAAAAAAAAAAAAAAAAAAAAAAAAAAAAAAA=\",\"dtype\":\"int32\",\"order\":\"little\",\"shape\":[575]},\"principal component 1\":{\"__ndarray__\":\"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\",\"dtype\":\"float64\",\"order\":\"little\",\"shape\":[575]},\"principal component 2\":{\"__ndarray__\":\"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\",\"dtype\":\"float64\",\"order\":\"little\",\"shape\":[575]},\"principal_component_1\":{\"__ndarray__\":\"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\",\"dtype\":\"float64\",\"order\":\"little\",\"shape\":[575]},\"principal_component_2\":{\"__ndarray__\":\"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\",\"dtype\":\"float64\",\"order\":\"little\",\"shape\":[575]}},\"selected\":{\"id\":\"1164\"},\"selection_policy\":{\"id\":\"1179\"}},\"id\":\"1163\",\"type\":\"ColumnDataSource\"},{\"attributes\":{\"angle\":{\"value\":0.0},\"fill_alpha\":{\"value\":1.0},\"fill_color\":{\"value\":\"#fc4f30\"},\"hatch_alpha\":{\"value\":1.0},\"hatch_color\":{\"value\":\"black\"},\"hatch_scale\":{\"value\":12.0},\"hatch_weight\":{\"value\":1.0},\"line_alpha\":{\"value\":1.0},\"line_cap\":{\"value\":\"butt\"},\"line_color\":{\"value\":\"#fc4f30\"},\"line_dash\":{\"value\":[]},\"line_dash_offset\":{\"value\":0},\"line_join\":{\"value\":\"bevel\"},\"line_width\":{\"value\":1},\"marker\":{\"value\":\"circle\"},\"size\":{\"value\":5.477225575051661},\"x\":{\"field\":\"principal component 1\"},\"y\":{\"field\":\"principal component 2\"}},\"id\":\"1205\",\"type\":\"Scatter\"},{\"attributes\":{\"fill_alpha\":{\"value\":0.1},\"fill_color\":{\"value\":\"#fc4f30\"},\"line_alpha\":{\"value\":0.1},\"line_color\":{\"value\":\"#fc4f30\"},\"size\":{\"value\":5.477225575051661},\"x\":{\"field\":\"principal component 1\"},\"y\":{\"field\":\"principal component 2\"}},\"id\":\"1188\",\"type\":\"Scatter\"},{\"attributes\":{\"axis\":{\"id\":\"1140\"},\"dimension\":1,\"grid_line_color\":null,\"ticker\":null},\"id\":\"1143\",\"type\":\"Grid\"},{\"attributes\":{},\"id\":\"1144\",\"type\":\"SaveTool\"},{\"attributes\":{\"source\":{\"id\":\"1163\"}},\"id\":\"1170\",\"type\":\"CDSView\"},{\"attributes\":{\"axis\":{\"id\":\"1136\"},\"grid_line_color\":null,\"ticker\":null},\"id\":\"1139\",\"type\":\"Grid\"},{\"attributes\":{},\"id\":\"1179\",\"type\":\"UnionRenderers\"},{\"attributes\":{},\"id\":\"1164\",\"type\":\"Selection\"},{\"attributes\":{},\"id\":\"1145\",\"type\":\"PanTool\"},{\"attributes\":{},\"id\":\"1207\",\"type\":\"Selection\"},{\"attributes\":{},\"id\":\"1146\",\"type\":\"WheelZoomTool\"},{\"attributes\":{\"fill_alpha\":{\"value\":0.1},\"fill_color\":{\"value\":\"#30a2da\"},\"line_alpha\":{\"value\":0.1},\"line_color\":{\"value\":\"#30a2da\"},\"size\":{\"value\":5.477225575051661},\"x\":{\"field\":\"principal component 1\"},\"y\":{\"field\":\"principal component 2\"}},\"id\":\"1167\",\"type\":\"Scatter\"},{\"attributes\":{\"active_multi\":null,\"tools\":[{\"id\":\"1124\"},{\"id\":\"1144\"},{\"id\":\"1145\"},{\"id\":\"1146\"},{\"id\":\"1147\"},{\"id\":\"1148\"}]},\"id\":\"1150\",\"type\":\"Toolbar\"},{\"attributes\":{\"data_source\":{\"id\":\"1163\"},\"glyph\":{\"id\":\"1166\"},\"hover_glyph\":null,\"muted_glyph\":{\"id\":\"1168\"},\"nonselection_glyph\":{\"id\":\"1167\"},\"selection_glyph\":{\"id\":\"1183\"},\"view\":{\"id\":\"1170\"}},\"id\":\"1169\",\"type\":\"GlyphRenderer\"},{\"attributes\":{\"overlay\":{\"id\":\"1149\"}},\"id\":\"1147\",\"type\":\"BoxZoomTool\"},{\"attributes\":{\"fill_color\":{\"value\":\"#e5ae38\"},\"line_color\":{\"value\":\"#e5ae38\"},\"size\":{\"value\":5.477225575051661},\"x\":{\"field\":\"principal component 1\"},\"y\":{\"field\":\"principal component 2\"}},\"id\":\"1209\",\"type\":\"Scatter\"},{\"attributes\":{},\"id\":\"1158\",\"type\":\"AllLabels\"},{\"attributes\":{},\"id\":\"1161\",\"type\":\"AllLabels\"},{\"attributes\":{\"children\":[{\"id\":\"1121\"},{\"id\":\"1127\"},{\"id\":\"1356\"}],\"margin\":[0,0,0,0],\"name\":\"Row01876\",\"tags\":[\"embedded\"]},\"id\":\"1120\",\"type\":\"Row\"},{\"attributes\":{\"fill_color\":{\"value\":\"#30a2da\"},\"line_color\":{\"value\":\"#30a2da\"},\"size\":{\"value\":5.477225575051661},\"x\":{\"field\":\"principal component 1\"},\"y\":{\"field\":\"principal component 2\"}},\"id\":\"1166\",\"type\":\"Scatter\"},{\"attributes\":{\"fill_alpha\":{\"value\":0.2},\"fill_color\":{\"value\":\"#30a2da\"},\"line_alpha\":{\"value\":0.2},\"line_color\":{\"value\":\"#30a2da\"},\"size\":{\"value\":5.477225575051661},\"x\":{\"field\":\"principal component 1\"},\"y\":{\"field\":\"principal component 2\"}},\"id\":\"1168\",\"type\":\"Scatter\"},{\"attributes\":{\"data\":{\"class\":{\"__ndarray__\":\"AgAAAA==\",\"dtype\":\"int32\",\"order\":\"little\",\"shape\":[1]},\"principal component 1\":{\"__ndarray__\":\"DpIEAZKqRUA=\",\"dtype\":\"float64\",\"order\":\"little\",\"shape\":[1]},\"principal component 2\":{\"__ndarray__\":\"3uLnL98ICcA=\",\"dtype\":\"float64\",\"order\":\"little\",\"shape\":[1]},\"principal_component_1\":{\"__ndarray__\":\"DpIEAZKqRUA=\",\"dtype\":\"float64\",\"order\":\"little\",\"shape\":[1]},\"principal_component_2\":{\"__ndarray__\":\"3uLnL98ICcA=\",\"dtype\":\"float64\",\"order\":\"little\",\"shape\":[1]}},\"selected\":{\"id\":\"1207\"},\"selection_policy\":{\"id\":\"1226\"}},\"id\":\"1206\",\"type\":\"ColumnDataSource\"},{\"attributes\":{},\"id\":\"1148\",\"type\":\"ResetTool\"},{\"attributes\":{\"angle\":{\"value\":0.0},\"fill_alpha\":{\"value\":1.0},\"fill_color\":{\"value\":\"#e5ae38\"},\"hatch_alpha\":{\"value\":1.0},\"hatch_color\":{\"value\":\"black\"},\"hatch_scale\":{\"value\":12.0},\"hatch_weight\":{\"value\":1.0},\"line_alpha\":{\"value\":1.0},\"line_cap\":{\"value\":\"butt\"},\"line_color\":{\"value\":\"#e5ae38\"},\"line_dash\":{\"value\":[]},\"line_dash_offset\":{\"value\":0},\"line_join\":{\"value\":\"bevel\"},\"line_width\":{\"value\":1},\"marker\":{\"value\":\"circle\"},\"size\":{\"value\":5.477225575051661},\"x\":{\"field\":\"principal component 1\"},\"y\":{\"field\":\"principal component 2\"}},\"id\":\"1229\",\"type\":\"Scatter\"},{\"attributes\":{\"fill_color\":{\"value\":\"#fc4f30\"},\"line_color\":{\"value\":\"#fc4f30\"},\"size\":{\"value\":5.477225575051661},\"x\":{\"field\":\"principal component 1\"},\"y\":{\"field\":\"principal component 2\"}},\"id\":\"1187\",\"type\":\"Scatter\"},{\"attributes\":{},\"id\":\"1134\",\"type\":\"LinearScale\"},{\"attributes\":{\"data_source\":{\"id\":\"1206\"},\"glyph\":{\"id\":\"1209\"},\"hover_glyph\":null,\"muted_glyph\":{\"id\":\"1211\"},\"nonselection_glyph\":{\"id\":\"1210\"},\"selection_glyph\":{\"id\":\"1229\"},\"view\":{\"id\":\"1213\"}},\"id\":\"1212\",\"type\":\"GlyphRenderer\"},{\"attributes\":{\"click_policy\":\"mute\",\"items\":[{\"id\":\"1182\"},{\"id\":\"1204\"},{\"id\":\"1228\"}],\"location\":[0,0],\"title\":\"class\"},\"id\":\"1181\",\"type\":\"Legend\"},{\"attributes\":{\"callback\":null,\"renderers\":[{\"id\":\"1169\"},{\"id\":\"1190\"},{\"id\":\"1212\"}],\"tags\":[\"hv_created\"],\"tooltips\":[[\"class\",\"@{class}\"],[\"principal component 1\",\"@{principal_component_1}\"],[\"principal component 2\",\"@{principal_component_2}\"]]},\"id\":\"1124\",\"type\":\"HoverTool\"},{\"attributes\":{\"fill_alpha\":{\"value\":0.1},\"fill_color\":{\"value\":\"#e5ae38\"},\"line_alpha\":{\"value\":0.1},\"line_color\":{\"value\":\"#e5ae38\"},\"size\":{\"value\":5.477225575051661},\"x\":{\"field\":\"principal component 1\"},\"y\":{\"field\":\"principal component 2\"}},\"id\":\"1210\",\"type\":\"Scatter\"},{\"attributes\":{},\"id\":\"1137\",\"type\":\"BasicTicker\"},{\"attributes\":{\"fill_alpha\":{\"value\":0.2},\"fill_color\":{\"value\":\"#e5ae38\"},\"line_alpha\":{\"value\":0.2},\"line_color\":{\"value\":\"#e5ae38\"},\"size\":{\"value\":5.477225575051661},\"x\":{\"field\":\"principal component 1\"},\"y\":{\"field\":\"principal component 2\"}},\"id\":\"1211\",\"type\":\"Scatter\"},{\"attributes\":{\"label\":{\"value\":\"2\"},\"renderers\":[{\"id\":\"1212\"}]},\"id\":\"1228\",\"type\":\"LegendItem\"},{\"attributes\":{\"margin\":[5,5,5,5],\"name\":\"HSpacer01881\",\"sizing_mode\":\"stretch_width\"},\"id\":\"1356\",\"type\":\"Spacer\"},{\"attributes\":{\"label\":{\"value\":\"0\"},\"renderers\":[{\"id\":\"1169\"}]},\"id\":\"1182\",\"type\":\"LegendItem\"},{\"attributes\":{\"end\":45.36837467328488,\"reset_end\":45.36837467328488,\"reset_start\":-6.205072960421202,\"start\":-6.205072960421202,\"tags\":[[[\"principal component 1\",\"principal component 1\",null]]]},\"id\":\"1122\",\"type\":\"Range1d\"},{\"attributes\":{\"angle\":{\"value\":0.0},\"fill_alpha\":{\"value\":1.0},\"fill_color\":{\"value\":\"#30a2da\"},\"hatch_alpha\":{\"value\":1.0},\"hatch_color\":{\"value\":\"black\"},\"hatch_scale\":{\"value\":12.0},\"hatch_weight\":{\"value\":1.0},\"line_alpha\":{\"value\":1.0},\"line_cap\":{\"value\":\"butt\"},\"line_color\":{\"value\":\"#30a2da\"},\"line_dash\":{\"value\":[]},\"line_dash_offset\":{\"value\":0},\"line_join\":{\"value\":\"bevel\"},\"line_width\":{\"value\":1},\"marker\":{\"value\":\"circle\"},\"size\":{\"value\":5.477225575051661},\"x\":{\"field\":\"principal component 1\"},\"y\":{\"field\":\"principal component 2\"}},\"id\":\"1183\",\"type\":\"Scatter\"}],\"root_ids\":[\"1120\"]},\"title\":\"Bokeh Application\",\"version\":\"2.3.2\"}};\n",
       "    var render_items = [{\"docid\":\"65cd845c-d94a-4af7-943e-afb0d3de2ed0\",\"root_ids\":[\"1120\"],\"roots\":{\"1120\":\"6ae3c84e-7850-4e1d-835c-92c48519b5dd\"}}];\n",
       "    root.Bokeh.embed.embed_items_notebook(docs_json, render_items);\n",
       "  }\n",
       "  if (root.Bokeh !== undefined && root.Bokeh.Panel !== undefined) {\n",
       "    embed_document(root);\n",
       "  } else {\n",
       "    var attempts = 0;\n",
       "    var timer = setInterval(function(root) {\n",
       "      if (root.Bokeh !== undefined && root.Bokeh.Panel !== undefined) {\n",
       "        clearInterval(timer);\n",
       "        embed_document(root);\n",
       "      } else if (document.readyState == \"complete\") {\n",
       "        attempts++;\n",
       "        if (attempts > 200) {\n",
       "          clearInterval(timer);\n",
       "          console.log(\"Bokeh: ERROR: Unable to run BokehJS code because BokehJS library is missing\");\n",
       "        }\n",
       "      }\n",
       "    }, 25, root)\n",
       "  }\n",
       "})(window);</script>"
      ],
      "text/plain": [
       ":NdOverlay   [class]\n",
       "   :Scatter   [principal component 1]   (principal component 2,class)"
      ]
     },
     "execution_count": 573,
     "metadata": {
      "application/vnd.holoviews_exec.v0+json": {
       "id": "1120"
      }
     },
     "output_type": "execute_result"
    }
   ],
   "source": [
    "# Create a 3D-Scatter with the PCA data and the clusters\n",
    "df_Crypto_pca.hvplot.scatter(\n",
    "    x='principal component 1',\n",
    "    y='principal component 2',\n",
    "    hover_cols=['class'],\n",
    "    by='class',\n",
    ")"
   ]
  },
  {
   "cell_type": "markdown",
   "metadata": {},
   "source": [
    "#### Table of Tradable Cryptocurrencies"
   ]
  },
  {
   "cell_type": "code",
   "execution_count": 546,
   "metadata": {},
   "outputs": [],
   "source": [
    "# Table with tradable cryptos\n"
   ]
  },
  {
   "cell_type": "code",
   "execution_count": null,
   "metadata": {},
   "outputs": [],
   "source": [
    "# Print the total number of tradable cryptocurrencies\n"
   ]
  },
  {
   "cell_type": "markdown",
   "metadata": {},
   "source": [
    "#### Scatter Plot with Tradable Cryptocurrencies"
   ]
  },
  {
   "cell_type": "code",
   "execution_count": null,
   "metadata": {},
   "outputs": [],
   "source": [
    "# Scale data to create the scatter plot\n"
   ]
  },
  {
   "cell_type": "code",
   "execution_count": null,
   "metadata": {},
   "outputs": [],
   "source": [
    "# Plot the scatter with x=\"TotalCoinsMined\" and y=\"TotalCoinSupply\"\n"
   ]
  }
 ],
 "metadata": {
  "file_extension": ".py",
  "kernelspec": {
   "display_name": "Python [conda env:pyvizenv]",
   "language": "python",
   "name": "conda-env-pyvizenv-py"
  },
  "language_info": {
   "codemirror_mode": {
    "name": "ipython",
    "version": 3
   },
   "file_extension": ".py",
   "mimetype": "text/x-python",
   "name": "python",
   "nbconvert_exporter": "python",
   "pygments_lexer": "ipython3",
   "version": "3.7.7"
  },
  "mimetype": "text/x-python",
  "name": "python",
  "npconvert_exporter": "python",
  "pygments_lexer": "ipython3",
  "version": 3
 },
 "nbformat": 4,
 "nbformat_minor": 4
}
